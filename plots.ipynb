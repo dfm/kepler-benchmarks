{
 "cells": [
  {
   "cell_type": "code",
   "execution_count": 1,
   "id": "a8725278",
   "metadata": {},
   "outputs": [],
   "source": [
    "%matplotlib inline"
   ]
  },
  {
   "cell_type": "code",
   "execution_count": 2,
   "id": "6e762f5a",
   "metadata": {},
   "outputs": [],
   "source": [
    "import numpy as np\n",
    "import pandas as pd\n",
    "import matplotlib.pyplot as plt"
   ]
  },
  {
   "cell_type": "code",
   "execution_count": 3,
   "id": "61b7fffd",
   "metadata": {},
   "outputs": [],
   "source": [
    "baseline = pd.read_csv(\"build/benchmarks/results/baseline.csv\")\n",
    "mean_baseline = np.median(baseline.time_ns) / np.median(baseline.iterations)"
   ]
  },
  {
   "cell_type": "code",
   "execution_count": 10,
   "id": "2d2b887c",
   "metadata": {},
   "outputs": [
    {
     "data": {
      "text/html": [
       "<div>\n",
       "<style scoped>\n",
       "    .dataframe tbody tr th:only-of-type {\n",
       "        vertical-align: middle;\n",
       "    }\n",
       "\n",
       "    .dataframe tbody tr th {\n",
       "        vertical-align: top;\n",
       "    }\n",
       "\n",
       "    .dataframe thead th {\n",
       "        text-align: right;\n",
       "    }\n",
       "</style>\n",
       "<table border=\"1\" class=\"dataframe\">\n",
       "  <thead>\n",
       "    <tr style=\"text-align: right;\">\n",
       "      <th></th>\n",
       "      <th></th>\n",
       "      <th>ecc_ind</th>\n",
       "      <th>anom_ind</th>\n",
       "      <th>eccentricity</th>\n",
       "      <th>mean_anomaly</th>\n",
       "      <th>true_eccentric_anomaly</th>\n",
       "      <th>computed_sin</th>\n",
       "      <th>computed_cos</th>\n",
       "      <th>error_sin</th>\n",
       "      <th>error_cos</th>\n",
       "      <th>iterations</th>\n",
       "      <th>time_ns</th>\n",
       "    </tr>\n",
       "  </thead>\n",
       "  <tbody>\n",
       "    <tr>\n",
       "      <th rowspan=\"5\" valign=\"top\">0</th>\n",
       "      <th>0</th>\n",
       "      <td>0.071429</td>\n",
       "      <td>0.071429</td>\n",
       "      <td>0.071429</td>\n",
       "      <td>0.023338</td>\n",
       "      <td>0.025133</td>\n",
       "      <td>0.025130</td>\n",
       "      <td>0.999684</td>\n",
       "      <td>7.133183e-14</td>\n",
       "      <td>1.776357e-15</td>\n",
       "      <td>5000</td>\n",
       "      <td>375309</td>\n",
       "    </tr>\n",
       "    <tr>\n",
       "      <th>1</th>\n",
       "      <td>0.071429</td>\n",
       "      <td>0.071429</td>\n",
       "      <td>0.071429</td>\n",
       "      <td>0.070018</td>\n",
       "      <td>0.075398</td>\n",
       "      <td>0.075327</td>\n",
       "      <td>0.997159</td>\n",
       "      <td>5.022371e-13</td>\n",
       "      <td>3.796963e-14</td>\n",
       "      <td>5000</td>\n",
       "      <td>503490</td>\n",
       "    </tr>\n",
       "    <tr>\n",
       "      <th>2</th>\n",
       "      <td>0.071429</td>\n",
       "      <td>0.071429</td>\n",
       "      <td>0.071429</td>\n",
       "      <td>0.116711</td>\n",
       "      <td>0.125664</td>\n",
       "      <td>0.125333</td>\n",
       "      <td>0.992115</td>\n",
       "      <td>1.287859e-12</td>\n",
       "      <td>1.627587e-13</td>\n",
       "      <td>5000</td>\n",
       "      <td>429994</td>\n",
       "    </tr>\n",
       "    <tr>\n",
       "      <th>3</th>\n",
       "      <td>0.071429</td>\n",
       "      <td>0.071429</td>\n",
       "      <td>0.071429</td>\n",
       "      <td>0.163428</td>\n",
       "      <td>0.175929</td>\n",
       "      <td>0.175023</td>\n",
       "      <td>0.984564</td>\n",
       "      <td>2.249034e-12</td>\n",
       "      <td>3.997913e-13</td>\n",
       "      <td>5000</td>\n",
       "      <td>358590</td>\n",
       "    </tr>\n",
       "    <tr>\n",
       "      <th>4</th>\n",
       "      <td>0.071429</td>\n",
       "      <td>0.071429</td>\n",
       "      <td>0.071429</td>\n",
       "      <td>0.210175</td>\n",
       "      <td>0.226195</td>\n",
       "      <td>0.224271</td>\n",
       "      <td>0.974527</td>\n",
       "      <td>3.157336e-12</td>\n",
       "      <td>7.265299e-13</td>\n",
       "      <td>5000</td>\n",
       "      <td>358934</td>\n",
       "    </tr>\n",
       "    <tr>\n",
       "      <th>...</th>\n",
       "      <th>...</th>\n",
       "      <td>...</td>\n",
       "      <td>...</td>\n",
       "      <td>...</td>\n",
       "      <td>...</td>\n",
       "      <td>...</td>\n",
       "      <td>...</td>\n",
       "      <td>...</td>\n",
       "      <td>...</td>\n",
       "      <td>...</td>\n",
       "      <td>...</td>\n",
       "      <td>...</td>\n",
       "    </tr>\n",
       "    <tr>\n",
       "      <th rowspan=\"5\" valign=\"top\">6</th>\n",
       "      <th>120</th>\n",
       "      <td>0.928571</td>\n",
       "      <td>0.928571</td>\n",
       "      <td>0.928571</td>\n",
       "      <td>6.265242</td>\n",
       "      <td>6.056991</td>\n",
       "      <td>-0.224271</td>\n",
       "      <td>0.974527</td>\n",
       "      <td>5.275645e-10</td>\n",
       "      <td>1.214100e-10</td>\n",
       "      <td>5000</td>\n",
       "      <td>1111440</td>\n",
       "    </tr>\n",
       "    <tr>\n",
       "      <th>121</th>\n",
       "      <td>0.928571</td>\n",
       "      <td>0.928571</td>\n",
       "      <td>0.928571</td>\n",
       "      <td>6.269778</td>\n",
       "      <td>6.107256</td>\n",
       "      <td>-0.175023</td>\n",
       "      <td>0.984564</td>\n",
       "      <td>1.628787e-09</td>\n",
       "      <td>2.895447e-10</td>\n",
       "      <td>5000</td>\n",
       "      <td>1142725</td>\n",
       "    </tr>\n",
       "    <tr>\n",
       "      <th>122</th>\n",
       "      <td>0.928571</td>\n",
       "      <td>0.928571</td>\n",
       "      <td>0.928571</td>\n",
       "      <td>6.273902</td>\n",
       "      <td>6.157522</td>\n",
       "      <td>-0.125333</td>\n",
       "      <td>0.992115</td>\n",
       "      <td>2.624165e-09</td>\n",
       "      <td>3.315092e-10</td>\n",
       "      <td>5000</td>\n",
       "      <td>1112040</td>\n",
       "    </tr>\n",
       "    <tr>\n",
       "      <th>123</th>\n",
       "      <td>0.928571</td>\n",
       "      <td>0.928571</td>\n",
       "      <td>0.928571</td>\n",
       "      <td>6.277733</td>\n",
       "      <td>6.207787</td>\n",
       "      <td>-0.075327</td>\n",
       "      <td>0.997159</td>\n",
       "      <td>1.647364e-09</td>\n",
       "      <td>1.244442e-10</td>\n",
       "      <td>5000</td>\n",
       "      <td>1284552</td>\n",
       "    </tr>\n",
       "    <tr>\n",
       "      <th>124</th>\n",
       "      <td>0.928571</td>\n",
       "      <td>0.928571</td>\n",
       "      <td>0.928571</td>\n",
       "      <td>6.281388</td>\n",
       "      <td>6.258053</td>\n",
       "      <td>-0.025130</td>\n",
       "      <td>0.999684</td>\n",
       "      <td>1.298480e-10</td>\n",
       "      <td>3.264056e-12</td>\n",
       "      <td>5000</td>\n",
       "      <td>1192094</td>\n",
       "    </tr>\n",
       "  </tbody>\n",
       "</table>\n",
       "<p>875 rows × 11 columns</p>\n",
       "</div>"
      ],
      "text/plain": [
       "        ecc_ind  anom_ind  eccentricity  mean_anomaly  true_eccentric_anomaly  \\\n",
       "0 0    0.071429  0.071429      0.071429      0.023338                0.025133   \n",
       "  1    0.071429  0.071429      0.071429      0.070018                0.075398   \n",
       "  2    0.071429  0.071429      0.071429      0.116711                0.125664   \n",
       "  3    0.071429  0.071429      0.071429      0.163428                0.175929   \n",
       "  4    0.071429  0.071429      0.071429      0.210175                0.226195   \n",
       "...         ...       ...           ...           ...                     ...   \n",
       "6 120  0.928571  0.928571      0.928571      6.265242                6.056991   \n",
       "  121  0.928571  0.928571      0.928571      6.269778                6.107256   \n",
       "  122  0.928571  0.928571      0.928571      6.273902                6.157522   \n",
       "  123  0.928571  0.928571      0.928571      6.277733                6.207787   \n",
       "  124  0.928571  0.928571      0.928571      6.281388                6.258053   \n",
       "\n",
       "       computed_sin  computed_cos     error_sin     error_cos  iterations  \\\n",
       "0 0        0.025130      0.999684  7.133183e-14  1.776357e-15        5000   \n",
       "  1        0.075327      0.997159  5.022371e-13  3.796963e-14        5000   \n",
       "  2        0.125333      0.992115  1.287859e-12  1.627587e-13        5000   \n",
       "  3        0.175023      0.984564  2.249034e-12  3.997913e-13        5000   \n",
       "  4        0.224271      0.974527  3.157336e-12  7.265299e-13        5000   \n",
       "...             ...           ...           ...           ...         ...   \n",
       "6 120     -0.224271      0.974527  5.275645e-10  1.214100e-10        5000   \n",
       "  121     -0.175023      0.984564  1.628787e-09  2.895447e-10        5000   \n",
       "  122     -0.125333      0.992115  2.624165e-09  3.315092e-10        5000   \n",
       "  123     -0.075327      0.997159  1.647364e-09  1.244442e-10        5000   \n",
       "  124     -0.025130      0.999684  1.298480e-10  3.264056e-12        5000   \n",
       "\n",
       "       time_ns  \n",
       "0 0     375309  \n",
       "  1     503490  \n",
       "  2     429994  \n",
       "  3     358590  \n",
       "  4     358934  \n",
       "...        ...  \n",
       "6 120  1111440  \n",
       "  121  1142725  \n",
       "  122  1112040  \n",
       "  123  1284552  \n",
       "  124  1192094  \n",
       "\n",
       "[875 rows x 11 columns]"
      ]
     },
     "execution_count": 10,
     "metadata": {},
     "output_type": "execute_result"
    }
   ],
   "source": [
    "df = pd.read_csv(\"build/benchmarks/results/first.csv\")\n",
    "df"
   ]
  },
  {
   "cell_type": "code",
   "execution_count": 15,
   "id": "996962a6",
   "metadata": {},
   "outputs": [
    {
     "data": {
      "text/plain": [
       "Text(0, 0.5, 'time per epoch [ns]')"
      ]
     },
     "execution_count": 15,
     "metadata": {},
     "output_type": "execute_result"
    },
    {
     "data": {
      "image/png": "[encoded data removed]",
      "text/plain": [
       "<Figure size 432x288 with 1 Axes>"
      ]
     },
     "metadata": {
      "needs_background": "light"
     },
     "output_type": "display_data"
    }
   ],
   "source": [
    "for name in [\"brandt\", \"brandt_fixed\", \"nijenhuis\", \"contour8\", \"contour8_fixed\", \"contour16_fixed\", \"first\", \"third\"]:\n",
    "    df = pd.read_csv(f\"build/benchmarks/results/{name}.csv\")\n",
    "    df_ecc = df.mean(level=0)\n",
    "    plt.plot(df_ecc.eccentricity, df_ecc.time_ns.astype(np.float64) / df_ecc.iterations, \"o-\", label=name.replace(\"_fixed\", \" (fixed)\"))\n",
    "    \n",
    "plt.axhline(mean_baseline, color=\"k\", label=\"sin \\& cos\")\n",
    "plt.yscale(\"log\")\n",
    "plt.legend()\n",
    "plt.ylabel(\"time per epoch [ns]\")"
   ]
  },
  {
   "cell_type": "code",
   "execution_count": 16,
   "id": "1136cb04",
   "metadata": {},
   "outputs": [
    {
     "name": "stdout",
     "output_type": "stream",
     "text": [
      "0\n",
      "0\n",
      "0\n",
      "0\n",
      "0\n",
      "0\n"
     ]
    },
    {
     "data": {
      "text/plain": [
       "<matplotlib.legend.Legend at 0x7fab4413c100>"
      ]
     },
     "execution_count": 16,
     "metadata": {},
     "output_type": "execute_result"
    },
    {
     "data": {
      "image/png": "[encoded data removed]",
      "text/plain": [
       "<Figure size 432x288 with 1 Axes>"
      ]
     },
     "metadata": {
      "needs_background": "light"
     },
     "output_type": "display_data"
    }
   ],
   "source": [
    "for name in [\"brandt_fixed\", \"nijenhuis\", \"contour8_fixed\", \"contour16_fixed\", \"first\", \"third\"]:\n",
    "    df = pd.read_csv(f\"build/benchmarks/results/{name}.csv\")\n",
    "    df_ecc = df.max(level=0)\n",
    "    plt.plot(df_ecc.eccentricity, np.log10(df_ecc.error_sin), \"o-\", label=name.replace(\"_fixed\", \" (fixed)\"))\n",
    "\n",
    "plt.legend()"
   ]
  },
  {
   "cell_type": "code",
   "execution_count": null,
   "id": "124c41ae",
   "metadata": {},
   "outputs": [],
   "source": []
  }
 ],
 "metadata": {
  "kernelspec": {
   "display_name": "Python 3",
   "language": "python",
   "name": "python3"
  },
  "language_info": {
   "codemirror_mode": {
    "name": "ipython",
    "version": 3
   },
   "file_extension": ".py",
   "mimetype": "text/x-python",
   "name": "python",
   "nbconvert_exporter": "python",
   "pygments_lexer": "ipython3",
   "version": "3.9.2"
  }
 },
 "nbformat": 4,
 "nbformat_minor": 5
}
